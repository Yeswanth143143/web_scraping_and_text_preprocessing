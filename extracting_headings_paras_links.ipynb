{
 "cells": [
  {
   "cell_type": "code",
   "execution_count": 1,
   "metadata": {},
   "outputs": [],
   "source": [
    "from bs4 import BeautifulSoup"
   ]
  },
  {
   "cell_type": "code",
   "execution_count": 2,
   "metadata": {},
   "outputs": [],
   "source": [
    "import requests"
   ]
  },
  {
   "cell_type": "code",
   "execution_count": 41,
   "metadata": {},
   "outputs": [],
   "source": [
    "import re"
   ]
  },
  {
   "cell_type": "code",
   "execution_count": 3,
   "metadata": {},
   "outputs": [],
   "source": [
    "html=requests.get(\"https://digitaldefynd.com/best-gre-prep-courses/\")"
   ]
  },
  {
   "cell_type": "code",
   "execution_count": 4,
   "metadata": {},
   "outputs": [],
   "source": [
    "soup=BeautifulSoup(html.content,'html.parser')"
   ]
  },
  {
   "cell_type": "markdown",
   "metadata": {},
   "source": [
    "# Extracting all headings in the webpage"
   ]
  },
  {
   "cell_type": "code",
   "execution_count": 5,
   "metadata": {},
   "outputs": [],
   "source": [
    "headings=soup.find_all(['h1', 'h2','h3','h4','h5','h6']) "
   ]
  },
  {
   "cell_type": "code",
   "execution_count": 6,
   "metadata": {},
   "outputs": [
    {
     "data": {
      "text/plain": [
       "25"
      ]
     },
     "execution_count": 6,
     "metadata": {},
     "output_type": "execute_result"
    }
   ],
   "source": [
    "len(headings)"
   ]
  },
  {
   "cell_type": "code",
   "execution_count": 9,
   "metadata": {},
   "outputs": [],
   "source": [
    "headers=''\n",
    "for i in range(len(headings)):\n",
    "    head=headings[i].get_text().strip()\n",
    "    headers=headers+head"
   ]
  },
  {
   "cell_type": "code",
   "execution_count": 10,
   "metadata": {
    "scrolled": true
   },
   "outputs": [
    {
     "data": {
      "text/plain": [
       "'Digital Defynd8 Best GRE Prep Courses Online [2020][UPDATED]8 Best GRE Prep Courses for 20201. GRE Prep Course (Magoosh)2. GRE Test Prep Online Course (Princeton Review)3. GRE Prep – Courses and Test Prep (Kaplan)4. GRE Online Prep Course & Classes (Manhattan Prep)5. GRE Prep Course (examPAL)6. GRE Score Improvement Course (The Economist)7. Prepare for the GRE Test (ETS GRE)8. GRE Classes and Training Online (PrepScholar GRE Prep)Related Courses8 Best PMP Certification Training Courses for 20204 Best OAT Test Prep Course Online for 20204 Best PSAT Prep Courses & Classes [2020]4 Best SSAT Prep Classes & Courses Online for 20209 Best IELTS Preparation Course & Training Online for 20205 Best MCAT Prep Courses & Classes Online for 2020What do you want to learn?Disclaimer: When you buy through some links on our site, we may earn a commission.AboutAt Digital Defynd, we help you find the best courses, certifications and tutorials online. Hundreds of experts come together to handpick these recommendations based on decades of collective experience. So far we have served 725,000+ satisfied learners and counting.Popular CoursesPopular CoursesMore'"
      ]
     },
     "execution_count": 10,
     "metadata": {},
     "output_type": "execute_result"
    }
   ],
   "source": [
    "headers # headers"
   ]
  },
  {
   "cell_type": "markdown",
   "metadata": {},
   "source": [
    "# Extracting all the paragraphs"
   ]
  },
  {
   "cell_type": "code",
   "execution_count": 7,
   "metadata": {},
   "outputs": [],
   "source": [
    "paras=soup.find_all('p') "
   ]
  },
  {
   "cell_type": "code",
   "execution_count": 8,
   "metadata": {},
   "outputs": [
    {
     "data": {
      "text/plain": [
       "121"
      ]
     },
     "execution_count": 8,
     "metadata": {},
     "output_type": "execute_result"
    }
   ],
   "source": [
    "len(paras)"
   ]
  },
  {
   "cell_type": "code",
   "execution_count": 11,
   "metadata": {},
   "outputs": [],
   "source": [
    "text=''\n",
    "for i in range(len(paras)):\n",
    "    para=paras[i].get_text().strip()\n",
    "    text+=para"
   ]
  },
  {
   "cell_type": "code",
   "execution_count": 12,
   "metadata": {},
   "outputs": [],
   "source": [
    "total_text=headers+text"
   ]
  },
  {
   "cell_type": "code",
   "execution_count": 13,
   "metadata": {
    "scrolled": true
   },
   "outputs": [
    {
     "name": "stdout",
     "output_type": "stream",
     "text": [
      "Digital Defynd8 Best GRE Prep Courses Online [2020][UPDATED]8 Best GRE Prep Courses for 20201. GRE Prep Course (Magoosh)2. GRE Test Prep Online Course (Princeton Review)3. GRE Prep – Courses and Test Prep (Kaplan)4. GRE Online Prep Course & Classes (Manhattan Prep)5. GRE Prep Course (examPAL)6. GRE Score Improvement Course (The Economist)7. Prepare for the GRE Test (ETS GRE)8. GRE Classes and Training Online (PrepScholar GRE Prep)Related Courses8 Best PMP Certification Training Courses for 20204 Best OAT Test Prep Course Online for 20204 Best PSAT Prep Courses & Classes [2020]4 Best SSAT Prep Classes & Courses Online for 20209 Best IELTS Preparation Course & Training Online for 20205 Best MCAT Prep Courses & Classes Online for 2020What do you want to learn?Disclaimer: When you buy through some links on our site, we may earn a commission.AboutAt Digital Defynd, we help you find the best courses, certifications and tutorials online. Hundreds of experts come together to handpick these recommendations based on decades of collective experience. So far we have served 725,000+ satisfied learners and counting.Popular CoursesPopular CoursesMoree-learning hub20+ Experts have compiled this list of Best GRE Test Prep Course, Tutorial, Training, Class, and Certification available online for 2020. It includes both paid and free resources to help you to prepare for GRE examination and these courses are suitable for beginners, intermediate learners as well as experts.This platform promises to be the shortest distance between you and an acceptance letter. Learn with lessons that cover every concept, pitfall, and shortcut of the exam. Improve as soon as possible with the most updated, tried and tested materials based on careful analysis of millions of students’ answers. The targeted study schedules help you to stay motivated and the weekly study planner helps you to stay on track until the exam day. The smart feedback and progress tracker lets you turn your weaknesses into strengths. By the end of the lectures, you will be ready to ace the exam confidently and with flying colors.Key USPs-– The intuitive dashboard estimates your score, compares your pace with other students and tracks your learning.– With adaptive technology that simulates the official exam, you will be able to gain the real test experience.– 250 Lessons + 1200 Questions + Full length tests– You can study anywhere and anytime on a desktop or mobile device.– Whenever you get stuck in any question, you can email assistance to clarify your doubts.Duration: Self-pacedRating: 4.5 out of 5You can Sign up HereReview: Magoosh taught me all the math concepts that I had forgotten, I could not have done it without Magoosh! The lessons are all super relevant to the test, and the practice problems are so helpful! Amazing! – Hannah S, Math 163, Verbal 164The world-class test-taking strategies and top GRE scoring experts on this platform help students to get ready for test day with methods that leave no room for error. You have the option to learn at your own pace or go for classroom learning for comprehensive preparation. With the adaptive drills, you can practice questions at your speed and difficulty level. Use exclusive prep algorithm, online tools, and explanation sessions to understand the test pattern and prepare accordingly.Key USPs-– Practice tests accurately mirror the GRE to ensure you are fully prepared on exam day.– Take an initial drill and based on your results, you’ll get a follow-up drill that’s at the right level for you.– Keep track of your progress using the intuitive dashboard and interactive score reports and adjust your future schedules accordingly.– Use the study materials to supplement the lectures.– Instructors teach even the most complex problems in easy-to-understand ways.Duration: Self-pacedRating: 4.5 out of 5You can Sign up HereReview: Superb instructor – The instructor makes everything very clear and the study materials he provides are extremely helpful in supplementing the material covered in the book. – Emily ReeseThis platform provides you with a plethora of option to choose the type of class consisting of – in person, live online, tutoring, unlimited prep, self-paced and more. Answer three simple questions to understand which class format best aligns with your requirements. Follow through the hours of tutorials that are designed to build your foundation in the curriculum for this examination. You will also get to experience the official test day environment which will prepare you for the actual exam.Key USPs-– The classes guide you through the fundamentals and explain the concepts with a gradual level of increasing difficulty which makes it easy to follow along.– The instructors share advice and best practices based on their experiences and talk about how to ensure an optimal score.– Customize your quizzes by choosing the subject, difficulty level, and the number of question.– Get one-on-one lessons to clarify any doubt and take full length proctored practice GREs.– Access the content anywhere, anytime and on any device.Duration: Self-pacedRating: 4.5 out of 5You can Sign up HereIf you want to learn more about the exam or hone skills you have already built then this is a great place to start. This website provides you with an array of resources including practice tests, challenge problems, official guide tracker, free classes & events, blogs, and forums. The content not only helps you to prepare for the exam but also for the challenges that you will face as you earn your graduate degree and advance your career. The contents of the lessons are updated regularly to keep up with the changes in the official curriculum. From a complete prep set to strategy guide, you will have every necessary content at your fingertips.Key USPs-– Choose the way you want to prep, whether you’re interested in working with an instructor or forging your own path.– Go for complete courses, subject-specific options, workshops and more.– As the classes are taken by experts with years of experience so you will learn to avoid commonly made mistakes.– The lectures include visualizations and demonstrations that make them engaging and fun.Duration: Self-pacedRating: 4.5 out of 5You can Sign up HereReview: Manhattan Prep is Great! – I had a great experience, and got a great score on the test because of Manhattan Prep. I would highly recommend my teacher Ryan as well. He was laid back but extremely knowledgeable and helpful. – ChrisA highly organized course that can be personalized to fit your schedule, level, and the way you think, and matches you with the right questions at the right time. This GRE Prep course from examPAL will teach you all the solutions that are best for you while providing real-time feedback on how to improve your knowledge and score in the exam. With this course, you’ll get access to the cumulative knowledge & experience of over 1 lakh students. You will learn how to quickly solve the most complicated problems of GRE in the minimum possible time with useful strategies.Key USPs –– An adaptive course that challenges you at every step of the exam prep with the right questions at the right time– Match the best solution strategy to solve problems with the online system of examPAL– No need to organize your time to start with the course, learn from your own pace without any schedules and deadlines– Learn with interactive videos, animations and real-time stats to make it more fun– All the courses are available at an affordable price; you can even start with the free GRE lessonsDuration: Self-pacedRating: 4.5 out of 5You can Sign up HereIf you’re looking for a course that guarantees a score improvement of up to 7 points in the GRE exam, then this course from GRE Economist is the best ideal option available online. With this course, you can master each section of the GRE and reach your full potential to score higher points in the GRE exam. We believe this is one of the best GRE prep courses available online because it provides one-on-one tutor support for every individual, which means a tutor will always be available to help you solve your queries while teaching you all the strategies of solving problems quickly.Key USPs –– A course that focuses on improving your most critical areas by analyzing your strength and weaknesses– Provides in-depth lessons, thousands of targeted practice questions, and realistic practice tests so that you cover every section of the GRE exam– Allow you to study from your comfort zone with the online test prep material– Content is mobile-optimized so that you can study from any mobile device without any interruption– Get access to interactive quizzes, video lectures, and 24*7 support from a tutorDuration: Self-pacedRating: 4.5 out of 5You can Sign up HereWith glowing reviews from students, this is one of the top websites that offer a variety of low-cost tools to help you prepare for the exam. Learn about the preparation strategy and tools directly from the experts. If you are looking for thorough guidance then you can explore the purchasable study materials and enroll for the classes, else if you want to simply supplement your learning then you can take a look at the free materials and tests.Key USPs –– Get official GRE practice tests, scores within minutes for all three measures and explanations for correct answers.– You have the flexibility to study anywhere on devices such as desktop, iPad, and iPhone.– Learn to avoid common mistakes and build the confidence to succeed on exam day.– Access to test-taking strategies, Quantitative Reasoning problem-solving steps, and strategies, sample essay responses with reader commentary and more.– Use the official mobile app featuring authentic questions that lets you bring the experts with you wherever you go.Duration: Self-pacedRating: 4.4 out of 5You can Sign up HereThis smart program optimizes the fastest path to your biggest score game by focusing individually on every skill tested in the examination. With integrated teaching and application, work on covering both curriculum and strategies. Apply the discussed shortcuts to answer the most advanced questions. After attending the interactive classes customized for students, adaptive questions and mini-lessons you are sure to get your targeted score.Key USPs-– Take the smart diagnostic to identify your weakness and strength across every GRE skill.– Hone your weakest, most basic skills first to see an immediate boost to your score.– Master more verbal and quant skills through interactive lessons, quizzes, and practice tests.– 2 Full length practice tests + 2107 Adaptive Questions & Mini-Lessons + 72 Interactive classes + 300 Questions, vocabulary courseDuration: Self-pacedRating: 4.4 out of 5You can Sign up HereSo these were the 8 Best GRE Prep Tutorial, Class, Course, Training & Certification available online for 2020. Hope you found what you were looking for. Wish you a Happy Learning!\n"
     ]
    }
   ],
   "source": [
    "print(total_text)# here is the total text of the webpage"
   ]
  },
  {
   "cell_type": "markdown",
   "metadata": {},
   "source": [
    "# Extracting all the links"
   ]
  },
  {
   "cell_type": "code",
   "execution_count": 60,
   "metadata": {},
   "outputs": [],
   "source": [
    "span=[]\n",
    "for h3_tag in soup.find_all('h3'):\n",
    "    span_tag=h3_tag.find('a')\n",
    "    if span_tag is not None and 'href' in span_tag.attrs:\n",
    "               span.append(span_tag.get('href'))"
   ]
  },
  {
   "cell_type": "code",
   "execution_count": 62,
   "metadata": {
    "scrolled": true
   },
   "outputs": [
    {
     "name": "stdout",
     "output_type": "stream",
     "text": [
      "https://digitaldefynd.com/\n",
      "http://shrsl.com/239nb\n",
      "https://www.awin1.com/cread.php?awinmid=18466&awinaffid=427859&clickref=ddgre2&ued=https%3A%2F%2Fwww.princetonreview.com%2Fgrad%2Fgre-test-prep\n",
      "https://click.linksynergy.com/deeplink?id=vedj0cWlu2Y&mid=1697&u1=ddgre1&murl=https%3A%2F%2Fwww.kaptest.com%2Fgre\n",
      "https://click.linksynergy.com/deeplink?id=vedj0cWlu2Y&mid=44938&u1=ddgremanhattan&murl=https%3A%2F%2Fwww.manhattanprep.com%2Fgre%2F\n",
      "https://www.linkconnector.com/ta.php?lc=154909090959005751&atid=ddgreep\n",
      "http://www.jdoqocy.com/click-7963747-12645371\n",
      "https://www.ets.org/gre/revised_general/prepare/?WT.ac=gre_prepare_170731\n",
      "https://shareasale.com/r.cfm?b=1423888&u=1783307&m=91268&urllink=&afftrack=\n",
      "https://digitaldefynd.com/best-pmp-courses/\n",
      "https://digitaldefynd.com/best-oat-test-prep-course/\n",
      "https://digitaldefynd.com/best-psat-prep-courses/\n",
      "https://digitaldefynd.com/best-ssat-prep-classes/\n",
      "https://digitaldefynd.com/best-ielts-preparation-course-training/\n",
      "https://digitaldefynd.com/best-mcat-prep-courses/\n"
     ]
    }
   ],
   "source": [
    "for i in span:\n",
    "    print(i)"
   ]
  },
  {
   "cell_type": "code",
   "execution_count": null,
   "metadata": {},
   "outputs": [],
   "source": []
  }
 ],
 "metadata": {
  "kernelspec": {
   "display_name": "Python 3",
   "language": "python",
   "name": "python3"
  },
  "language_info": {
   "codemirror_mode": {
    "name": "ipython",
    "version": 3
   },
   "file_extension": ".py",
   "mimetype": "text/x-python",
   "name": "python",
   "nbconvert_exporter": "python",
   "pygments_lexer": "ipython3",
   "version": "3.7.3"
  }
 },
 "nbformat": 4,
 "nbformat_minor": 2
}
