{
 "cells": [
  {
   "cell_type": "markdown",
   "metadata": {},
   "source": [
    "# Text Preprocessing\n",
    "\n",
    "Preprocessing of the text obtained from the web page.\n",
    "# =>steps to do preprocessing.\n",
    "\n",
    "step 1->:import the libraries to do preprocessing and webscraping.\n",
    "\n",
    "step 2->:Select the webpage to do preprocessing.Copy the webpage url and pass it to requests.get() method.\n",
    "\n",
    "step 3->:With the BeautifulSoup API parse the webpage.Find all the paragraphs from the webpage.\n",
    "\n",
    "step 4->:So here is our text to do preprocessing.Following are the main preprocessing steps.\n",
    "\n",
    "          1.Convert text to lowercase\n",
    "          2.Remove numbers\n",
    "          3.Remove punctuation\n",
    "          4.Tokenization\n",
    "          5.Remove stop words\n",
    "          6.Stemming\n",
    "          7.Lemmatization\n",
    "          8.Part of speech tagging (POS)"
   ]
  },
  {
   "cell_type": "code",
   "execution_count": 3,
   "metadata": {},
   "outputs": [],
   "source": [
    "import urllib3"
   ]
  },
  {
   "cell_type": "code",
   "execution_count": 4,
   "metadata": {},
   "outputs": [],
   "source": [
    "import requests"
   ]
  },
  {
   "cell_type": "code",
   "execution_count": null,
   "metadata": {},
   "outputs": [],
   "source": [
    "import re\n",
    "import string"
   ]
  },
  {
   "cell_type": "code",
   "execution_count": 14,
   "metadata": {},
   "outputs": [],
   "source": [
    "import nltk\n"
   ]
  },
  {
   "cell_type": "code",
   "execution_count": 5,
   "metadata": {},
   "outputs": [],
   "source": [
    "from bs4 import BeautifulSoup"
   ]
  },
  {
   "cell_type": "code",
   "execution_count": 6,
   "metadata": {},
   "outputs": [],
   "source": [
    "page=requests.get('http://www.euro.who.int/en/health-topics/health-emergencies/coronavirus-covid-19')"
   ]
  },
  {
   "cell_type": "code",
   "execution_count": 7,
   "metadata": {
    "scrolled": true
   },
   "outputs": [],
   "source": [
    "soup=BeautifulSoup(page.content,'html.parser')\n"
   ]
  },
  {
   "cell_type": "code",
   "execution_count": 8,
   "metadata": {},
   "outputs": [],
   "source": [
    "content=soup.find_all('p')"
   ]
  },
  {
   "cell_type": "code",
   "execution_count": 9,
   "metadata": {},
   "outputs": [],
   "source": [
    "new_text=''\n",
    "for i in range(len(content)):\n",
    "    text=content[i].get_text().strip()\n",
    "    new_text=text+new_text"
   ]
  },
  {
   "cell_type": "code",
   "execution_count": 10,
   "metadata": {},
   "outputs": [
    {
     "data": {
      "text/plain": [
       "'© 2020 WHOWHO Regional Office for Europe\\r\\nUN City\\r\\nMarmorvej 51\\r\\nDK-2100 Copenhagen Ø\\r\\nDenmark\\r\\nTel.: +45 45 33 70 00\\r\\nFax: +45 45 33 70 01\\nMap and directions\\nSend us an emailTo participate, check that InfluenzaNet is active in your country, sign up and input data weekly about COVID-19 related respiratory symptoms you or your family experience.Alcohol is known to be harmful to health in general, and is well understood to increase the risk of injury and violence, including intimate partner violence, and can cause alcohol poisoning. At times of lockdown during the COVID-19 pandemic, alcohol consumption can exacerbate health vulnerability, risk-taking behaviours, mental health issues and violence.Coronaviruses (CoV) are a large family of viruses that cause illness ranging from the common cold to more severe diseases. A novel coronavirus (nCoV) is a new strain that has not been previously identified in humans.On 30 January 2020, the WHO Director-General declared the novel coronavirus (2019-nCoV) outbreak a public health emergency of international concern.Full reportHighlightsOur flagship report maps health trends, charts progress towards achieving health\\r\\n                goals and provides an advance base for health policysearch'"
      ]
     },
     "execution_count": 10,
     "metadata": {},
     "output_type": "execute_result"
    }
   ],
   "source": [
    "new_text"
   ]
  },
  {
   "cell_type": "markdown",
   "metadata": {},
   "source": [
    "# Convert text to lowercase"
   ]
  },
  {
   "cell_type": "code",
   "execution_count": 11,
   "metadata": {},
   "outputs": [
    {
     "name": "stdout",
     "output_type": "stream",
     "text": [
      "© 2020 whowho regional office for europe\r\n",
      "un city\r\n",
      "marmorvej 51\r\n",
      "dk-2100 copenhagen ø\r\n",
      "denmark\r\n",
      "tel.: +45 45 33 70 00\r\n",
      "fax: +45 45 33 70 01\n",
      "map and directions\n",
      "send us an emailto participate, check that influenzanet is active in your country, sign up and input data weekly about covid-19 related respiratory symptoms you or your family experience.alcohol is known to be harmful to health in general, and is well understood to increase the risk of injury and violence, including intimate partner violence, and can cause alcohol poisoning. at times of lockdown during the covid-19 pandemic, alcohol consumption can exacerbate health vulnerability, risk-taking behaviours, mental health issues and violence.coronaviruses (cov) are a large family of viruses that cause illness ranging from the common cold to more severe diseases. a novel coronavirus (ncov) is a new strain that has not been previously identified in humans.on 30 january 2020, the who director-general declared the novel coronavirus (2019-ncov) outbreak a public health emergency of international concern.full reporthighlightsour flagship report maps health trends, charts progress towards achieving health\r\n",
      "                goals and provides an advance base for health policysearch\n"
     ]
    }
   ],
   "source": [
    "lowercase_text=new_text.lower()\n",
    "print(lowercase_text)"
   ]
  },
  {
   "cell_type": "markdown",
   "metadata": {},
   "source": [
    "# Remove numbers"
   ]
  },
  {
   "cell_type": "code",
   "execution_count": 12,
   "metadata": {},
   "outputs": [
    {
     "name": "stdout",
     "output_type": "stream",
     "text": [
      "©  whowho regional office for europe\r\n",
      "un city\r\n",
      "marmorvej \r\n",
      "dk- copenhagen ø\r\n",
      "denmark\r\n",
      "tel.: +    \r\n",
      "fax: +    \n",
      "map and directions\n",
      "send us an emailto participate, check that influenzanet is active in your country, sign up and input data weekly about covid- related respiratory symptoms you or your family experience.alcohol is known to be harmful to health in general, and is well understood to increase the risk of injury and violence, including intimate partner violence, and can cause alcohol poisoning. at times of lockdown during the covid- pandemic, alcohol consumption can exacerbate health vulnerability, risk-taking behaviours, mental health issues and violence.coronaviruses (cov) are a large family of viruses that cause illness ranging from the common cold to more severe diseases. a novel coronavirus (ncov) is a new strain that has not been previously identified in humans.on  january , the who director-general declared the novel coronavirus (-ncov) outbreak a public health emergency of international concern.full reporthighlightsour flagship report maps health trends, charts progress towards achieving health\r\n",
      "                goals and provides an advance base for health policysearch\n"
     ]
    }
   ],
   "source": [
    "text_without_num=re.sub(r'\\d+','',lowercase_text)\n",
    "print(text_without_num)"
   ]
  },
  {
   "cell_type": "markdown",
   "metadata": {},
   "source": [
    "# Remove punctuation"
   ]
  },
  {
   "cell_type": "code",
   "execution_count": 13,
   "metadata": {},
   "outputs": [
    {
     "name": "stdout",
     "output_type": "stream",
     "text": [
      "©  whowho regional office for europe\r\n",
      "un city\r\n",
      "marmorvej \r\n",
      "dk copenhagen ø\r\n",
      "denmark\r\n",
      "tel     \r\n",
      "fax     \n",
      "map and directions\n",
      "send us an emailto participate check that influenzanet is active in your country sign up and input data weekly about covid related respiratory symptoms you or your family experiencealcohol is known to be harmful to health in general and is well understood to increase the risk of injury and violence including intimate partner violence and can cause alcohol poisoning at times of lockdown during the covid pandemic alcohol consumption can exacerbate health vulnerability risktaking behaviours mental health issues and violencecoronaviruses cov are a large family of viruses that cause illness ranging from the common cold to more severe diseases a novel coronavirus ncov is a new strain that has not been previously identified in humanson  january  the who directorgeneral declared the novel coronavirus ncov outbreak a public health emergency of international concernfull reporthighlightsour flagship report maps health trends charts progress towards achieving health\r\n",
      "                goals and provides an advance base for health policysearch\n"
     ]
    }
   ],
   "source": [
    "text_without_pun=text_without_num.translate(text_without_num.maketrans(\"\",\"\",string.punctuation))\n",
    "print(text_without_pun)"
   ]
  },
  {
   "cell_type": "markdown",
   "metadata": {},
   "source": [
    "# Tokenization"
   ]
  },
  {
   "cell_type": "code",
   "execution_count": 23,
   "metadata": {},
   "outputs": [
    {
     "name": "stdout",
     "output_type": "stream",
     "text": [
      "['©', 'whowho', 'regional', 'office', 'for', 'europe', 'un', 'city', 'marmorvej', 'dk', 'copenhagen', 'ø', 'denmark', 'tel', 'fax', 'map', 'and', 'directions', 'send', 'us', 'an', 'emailto', 'participate', 'check', 'that', 'influenzanet', 'is', 'active', 'in', 'your', 'country', 'sign', 'up', 'and', 'input', 'data', 'weekly', 'about', 'covid', 'related', 'respiratory', 'symptoms', 'you', 'or', 'your', 'family', 'experiencealcohol', 'is', 'known', 'to', 'be', 'harmful', 'to', 'health', 'in', 'general', 'and', 'is', 'well', 'understood', 'to', 'increase', 'the', 'risk', 'of', 'injury', 'and', 'violence', 'including', 'intimate', 'partner', 'violence', 'and', 'can', 'cause', 'alcohol', 'poisoning', 'at', 'times', 'of', 'lockdown', 'during', 'the', 'covid', 'pandemic', 'alcohol', 'consumption', 'can', 'exacerbate', 'health', 'vulnerability', 'risktaking', 'behaviours', 'mental', 'health', 'issues', 'and', 'violencecoronaviruses', 'cov', 'are', 'a', 'large', 'family', 'of', 'viruses', 'that', 'cause', 'illness', 'ranging', 'from', 'the', 'common', 'cold', 'to', 'more', 'severe', 'diseases', 'a', 'novel', 'coronavirus', 'ncov', 'is', 'a', 'new', 'strain', 'that', 'has', 'not', 'been', 'previously', 'identified', 'in', 'humanson', 'january', 'the', 'who', 'directorgeneral', 'declared', 'the', 'novel', 'coronavirus', 'ncov', 'outbreak', 'a', 'public', 'health', 'emergency', 'of', 'international', 'concernfull', 'reporthighlightsour', 'flagship', 'report', 'maps', 'health', 'trends', 'charts', 'progress', 'towards', 'achieving', 'health', 'goals', 'and', 'provides', 'an', 'advance', 'base', 'for', 'health', 'policysearch']\n"
     ]
    },
    {
     "name": "stderr",
     "output_type": "stream",
     "text": [
      "[nltk_data] Downloading package punkt to C:\\Users\\Bala Yaswanta\n",
      "[nltk_data]     Sai\\AppData\\Roaming\\nltk_data...\n",
      "[nltk_data]   Package punkt is already up-to-date!\n"
     ]
    }
   ],
   "source": [
    "nltk.download('punkt')\n",
    "tokens=nltk.word_tokenize(text_without_pun)\n",
    "print(tokens)"
   ]
  },
  {
   "cell_type": "markdown",
   "metadata": {},
   "source": [
    "# Remove stop words"
   ]
  },
  {
   "cell_type": "code",
   "execution_count": 21,
   "metadata": {},
   "outputs": [
    {
     "name": "stdout",
     "output_type": "stream",
     "text": [
      "['©', 'whowho', 'regional', 'office', 'europe', 'un', 'city', 'marmorvej', 'dk', 'copenhagen', 'ø', 'denmark', 'tel', 'fax', 'map', 'directions', 'send', 'us', 'emailto', 'participate', 'check', 'influenzanet', 'active', 'country', 'sign', 'input', 'data', 'weekly', 'covid', 'related', 'respiratory', 'symptoms', 'family', 'experiencealcohol', 'known', 'harmful', 'health', 'general', 'well', 'understood', 'increase', 'risk', 'injury', 'violence', 'including', 'intimate', 'partner', 'violence', 'cause', 'alcohol', 'poisoning', 'times', 'lockdown', 'covid', 'pandemic', 'alcohol', 'consumption', 'exacerbate', 'health', 'vulnerability', 'risktaking', 'behaviours', 'mental', 'health', 'issues', 'violencecoronaviruses', 'cov', 'large', 'family', 'viruses', 'cause', 'illness', 'ranging', 'common', 'cold', 'severe', 'diseases', 'novel', 'coronavirus', 'ncov', 'new', 'strain', 'previously', 'identified', 'humanson', 'january', 'directorgeneral', 'declared', 'novel', 'coronavirus', 'ncov', 'outbreak', 'public', 'health', 'emergency', 'international', 'concernfull', 'reporthighlightsour', 'flagship', 'report', 'maps', 'health', 'trends', 'charts', 'progress', 'towards', 'achieving', 'health', 'goals', 'provides', 'advance', 'base', 'health', 'policysearch']\n"
     ]
    }
   ],
   "source": [
    "stop_words = set(nltk.corpus.stopwords.words('english'))#from nltk.corpus import stopwords\n",
    "words = [i for i in tokens if not i in stop_words]\n",
    "print (words)"
   ]
  },
  {
   "cell_type": "markdown",
   "metadata": {},
   "source": [
    "# Stemming"
   ]
  },
  {
   "cell_type": "code",
   "execution_count": 24,
   "metadata": {},
   "outputs": [
    {
     "name": "stdout",
     "output_type": "stream",
     "text": [
      "['©', 'whowho', 'region', 'offic', 'europ', 'un', 'citi', 'marmorvej', 'dk', 'copenhagen', 'ø', 'denmark', 'tel', 'fax', 'map', 'direct', 'send', 'us', 'emailto', 'particip', 'check', 'influenzanet', 'activ', 'countri', 'sign', 'input', 'data', 'weekli', 'covid', 'relat', 'respiratori', 'symptom', 'famili', 'experiencealcohol', 'known', 'harm', 'health', 'gener', 'well', 'understood', 'increas', 'risk', 'injuri', 'violenc', 'includ', 'intim', 'partner', 'violenc', 'caus', 'alcohol', 'poison', 'time', 'lockdown', 'covid', 'pandem', 'alcohol', 'consumpt', 'exacerb', 'health', 'vulner', 'risktak', 'behaviour', 'mental', 'health', 'issu', 'violencecoronavirus', 'cov', 'larg', 'famili', 'virus', 'caus', 'ill', 'rang', 'common', 'cold', 'sever', 'diseas', 'novel', 'coronaviru', 'ncov', 'new', 'strain', 'previous', 'identifi', 'humanson', 'januari', 'directorgener', 'declar', 'novel', 'coronaviru', 'ncov', 'outbreak', 'public', 'health', 'emerg', 'intern', 'concernful', 'reporthighlightsour', 'flagship', 'report', 'map', 'health', 'trend', 'chart', 'progress', 'toward', 'achiev', 'health', 'goal', 'provid', 'advanc', 'base', 'health', 'policysearch']\n"
     ]
    }
   ],
   "source": [
    "stem=[]\n",
    "stemmer=nltk.PorterStemmer()\n",
    "for word in words:\n",
    "    stem.append(stemmer.stem(word))\n",
    "print(stem)    "
   ]
  },
  {
   "cell_type": "markdown",
   "metadata": {},
   "source": [
    "# Lemmatization"
   ]
  },
  {
   "cell_type": "code",
   "execution_count": 26,
   "metadata": {},
   "outputs": [
    {
     "name": "stderr",
     "output_type": "stream",
     "text": [
      "[nltk_data] Downloading package wordnet to C:\\Users\\Bala Yaswanta\n",
      "[nltk_data]     Sai\\AppData\\Roaming\\nltk_data...\n",
      "[nltk_data]   Unzipping corpora\\wordnet.zip.\n"
     ]
    },
    {
     "name": "stdout",
     "output_type": "stream",
     "text": [
      "['©', 'whowho', 'region', 'offic', 'europ', 'un', 'citi', 'marmorvej', 'dk', 'copenhagen', 'ø', 'denmark', 'tel', 'fax', 'map', 'direct', 'send', 'u', 'emailto', 'particip', 'check', 'influenzanet', 'activ', 'countri', 'sign', 'input', 'data', 'weekli', 'covid', 'relat', 'respiratori', 'symptom', 'famili', 'experiencealcohol', 'known', 'harm', 'health', 'gener', 'well', 'understood', 'increas', 'risk', 'injuri', 'violenc', 'includ', 'intim', 'partner', 'violenc', 'caus', 'alcohol', 'poison', 'time', 'lockdown', 'covid', 'pandem', 'alcohol', 'consumpt', 'exacerb', 'health', 'vulner', 'risktak', 'behaviour', 'mental', 'health', 'issu', 'violencecoronavirus', 'cov', 'larg', 'famili', 'virus', 'caus', 'ill', 'rang', 'common', 'cold', 'sever', 'diseas', 'novel', 'coronaviru', 'ncov', 'new', 'strain', 'previous', 'identifi', 'humanson', 'januari', 'directorgener', 'declar', 'novel', 'coronaviru', 'ncov', 'outbreak', 'public', 'health', 'emerg', 'intern', 'concernful', 'reporthighlightsour', 'flagship', 'report', 'map', 'health', 'trend', 'chart', 'progress', 'toward', 'achiev', 'health', 'goal', 'provid', 'advanc', 'base', 'health', 'policysearch']\n"
     ]
    }
   ],
   "source": [
    "nltk.download('wordnet')\n",
    "lem=[]\n",
    "lemmatizer=nltk.stem.WordNetLemmatizer()\n",
    "for word in stem:\n",
    "    lem.append(lemmatizer.lemmatize(word))\n",
    "print(lem)    "
   ]
  },
  {
   "cell_type": "markdown",
   "metadata": {},
   "source": [
    "# Part of speech tagging (POS)"
   ]
  },
  {
   "cell_type": "code",
   "execution_count": 30,
   "metadata": {},
   "outputs": [
    {
     "name": "stderr",
     "output_type": "stream",
     "text": [
      "[nltk_data] Downloading package averaged_perceptron_tagger to\n",
      "[nltk_data]     C:\\Users\\Bala Yaswanta\n",
      "[nltk_data]     Sai\\AppData\\Roaming\\nltk_data...\n",
      "[nltk_data]   Unzipping taggers\\averaged_perceptron_tagger.zip.\n"
     ]
    }
   ],
   "source": [
    "nltk.download('averaged_perceptron_tagger')\n",
    "pos_tags=nltk.pos_tag(tokens)"
   ]
  },
  {
   "cell_type": "code",
   "execution_count": 31,
   "metadata": {},
   "outputs": [
    {
     "name": "stdout",
     "output_type": "stream",
     "text": [
      "[('©', 'NN'), ('whowho', 'WRB'), ('regional', 'JJ'), ('office', 'NN'), ('for', 'IN'), ('europe', 'NN'), ('un', 'JJ'), ('city', 'NN'), ('marmorvej', 'NN'), ('dk', 'NN'), ('copenhagen', 'NN'), ('ø', 'NNP'), ('denmark', 'NN'), ('tel', 'NN'), ('fax', 'NN'), ('map', 'NN'), ('and', 'CC'), ('directions', 'NNS'), ('send', 'VBP'), ('us', 'PRP'), ('an', 'DT'), ('emailto', 'JJ'), ('participate', 'NN'), ('check', 'NN'), ('that', 'IN'), ('influenzanet', 'NN'), ('is', 'VBZ'), ('active', 'JJ'), ('in', 'IN'), ('your', 'PRP$'), ('country', 'NN'), ('sign', 'VBD'), ('up', 'RB'), ('and', 'CC'), ('input', 'VB'), ('data', 'NNS'), ('weekly', 'RB'), ('about', 'IN'), ('covid', 'NN'), ('related', 'JJ'), ('respiratory', 'NN'), ('symptoms', 'NNS'), ('you', 'PRP'), ('or', 'CC'), ('your', 'PRP$'), ('family', 'NN'), ('experiencealcohol', 'NN'), ('is', 'VBZ'), ('known', 'VBN'), ('to', 'TO'), ('be', 'VB'), ('harmful', 'JJ'), ('to', 'TO'), ('health', 'NN'), ('in', 'IN'), ('general', 'JJ'), ('and', 'CC'), ('is', 'VBZ'), ('well', 'RB'), ('understood', 'JJ'), ('to', 'TO'), ('increase', 'VB'), ('the', 'DT'), ('risk', 'NN'), ('of', 'IN'), ('injury', 'NN'), ('and', 'CC'), ('violence', 'NN'), ('including', 'VBG'), ('intimate', 'NN'), ('partner', 'NN'), ('violence', 'NN'), ('and', 'CC'), ('can', 'MD'), ('cause', 'VB'), ('alcohol', 'NN'), ('poisoning', 'NN'), ('at', 'IN'), ('times', 'NNS'), ('of', 'IN'), ('lockdown', 'NN'), ('during', 'IN'), ('the', 'DT'), ('covid', 'JJ'), ('pandemic', 'JJ'), ('alcohol', 'NN'), ('consumption', 'NN'), ('can', 'MD'), ('exacerbate', 'VB'), ('health', 'NN'), ('vulnerability', 'NN'), ('risktaking', 'VBG'), ('behaviours', 'NNS'), ('mental', 'JJ'), ('health', 'NN'), ('issues', 'NNS'), ('and', 'CC'), ('violencecoronaviruses', 'NNS'), ('cov', 'NNS'), ('are', 'VBP'), ('a', 'DT'), ('large', 'JJ'), ('family', 'NN'), ('of', 'IN'), ('viruses', 'NNS'), ('that', 'WDT'), ('cause', 'VBP'), ('illness', 'JJ'), ('ranging', 'VBG'), ('from', 'IN'), ('the', 'DT'), ('common', 'JJ'), ('cold', 'NN'), ('to', 'TO'), ('more', 'RBR'), ('severe', 'JJ'), ('diseases', 'VBZ'), ('a', 'DT'), ('novel', 'JJ'), ('coronavirus', 'NN'), ('ncov', 'NN'), ('is', 'VBZ'), ('a', 'DT'), ('new', 'JJ'), ('strain', 'NN'), ('that', 'WDT'), ('has', 'VBZ'), ('not', 'RB'), ('been', 'VBN'), ('previously', 'RB'), ('identified', 'VBN'), ('in', 'IN'), ('humanson', 'NN'), ('january', 'VBP'), ('the', 'DT'), ('who', 'WP'), ('directorgeneral', 'JJ'), ('declared', 'VBD'), ('the', 'DT'), ('novel', 'JJ'), ('coronavirus', 'NN'), ('ncov', 'NN'), ('outbreak', 'IN'), ('a', 'DT'), ('public', 'JJ'), ('health', 'NN'), ('emergency', 'NN'), ('of', 'IN'), ('international', 'JJ'), ('concernfull', 'NN'), ('reporthighlightsour', 'NN'), ('flagship', 'NN'), ('report', 'NN'), ('maps', 'VBZ'), ('health', 'NN'), ('trends', 'NNS'), ('charts', 'VBZ'), ('progress', 'NN'), ('towards', 'NNS'), ('achieving', 'VBG'), ('health', 'NN'), ('goals', 'NNS'), ('and', 'CC'), ('provides', 'VBZ'), ('an', 'DT'), ('advance', 'NN'), ('base', 'NN'), ('for', 'IN'), ('health', 'NN'), ('policysearch', 'NN')]\n"
     ]
    }
   ],
   "source": [
    "print(pos_tags)"
   ]
  }
 ],
 "metadata": {
  "kernelspec": {
   "display_name": "Python 3",
   "language": "python",
   "name": "python3"
  },
  "language_info": {
   "codemirror_mode": {
    "name": "ipython",
    "version": 3
   },
   "file_extension": ".py",
   "mimetype": "text/x-python",
   "name": "python",
   "nbconvert_exporter": "python",
   "pygments_lexer": "ipython3",
   "version": "3.7.3"
  }
 },
 "nbformat": 4,
 "nbformat_minor": 2
}
